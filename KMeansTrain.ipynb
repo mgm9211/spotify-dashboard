{
  "nbformat": 4,
  "nbformat_minor": 0,
  "metadata": {
    "colab": {
      "name": "KMeansTrain.ipynb",
      "provenance": [],
      "collapsed_sections": []
    },
    "kernelspec": {
      "name": "python3",
      "display_name": "Python 3"
    },
    "language_info": {
      "name": "python"
    }
  },
  "cells": [
    {
      "cell_type": "code",
      "metadata": {
        "colab": {
          "base_uri": "https://localhost:8080/"
        },
        "id": "iD3o5MO0JQ5n",
        "outputId": "41984c19-134c-4da8-ae81-1d1d69f97629"
      },
      "source": [
        "from google.colab import drive\n",
        "drive.mount('/content/drive')"
      ],
      "execution_count": null,
      "outputs": [
        {
          "output_type": "stream",
          "text": [
            "Drive already mounted at /content/drive; to attempt to forcibly remount, call drive.mount(\"/content/drive\", force_remount=True).\n"
          ],
          "name": "stdout"
        }
      ]
    },
    {
      "cell_type": "markdown",
      "metadata": {
        "id": "4KZ8_h0LKE4V"
      },
      "source": [
        "# KMeans over Songs Features\n"
      ]
    },
    {
      "cell_type": "code",
      "metadata": {
        "id": "7uRZa_XvKPC4"
      },
      "source": [
        "import pandas as pd\n",
        "from sklearn.cluster import KMeans\n",
        "from sklearn.preprocessing import StandardScaler\n",
        "import matplotlib.pyplot as plt\n",
        "import seaborn as sns\n",
        "sns.set()"
      ],
      "execution_count": null,
      "outputs": []
    },
    {
      "cell_type": "markdown",
      "metadata": {
        "id": "j9Fd71xNKigg"
      },
      "source": [
        "Load songs data (Extracted from MongoDB)"
      ]
    },
    {
      "cell_type": "code",
      "metadata": {
        "colab": {
          "base_uri": "https://localhost:8080/"
        },
        "id": "hZR9X2KhKn-Y",
        "outputId": "099de950-40a6-4d97-b0ee-8b97af11514d"
      },
      "source": [
        "data = pd.read_csv('/content/drive/MyDrive/DATASETS/songs.csv', engine='python')\n",
        "print(data.describe())\n",
        "# Drop id to scale features\n",
        "songs_features = data.drop(['_id'], axis=1)"
      ],
      "execution_count": null,
      "outputs": [
        {
          "output_type": "stream",
          "text": [
            "        Acousticness   Danceability  ...          Tempo        Valence\n",
            "count  167784.000000  167784.000000  ...  167784.000000  167784.000000\n",
            "mean        0.501891       0.536703  ...     116.965243       0.526072\n",
            "std         0.379101       0.175696  ...      30.281912       0.264327\n",
            "min         0.000000       0.000000  ...       0.000000       0.000000\n",
            "25%         0.091400       0.415000  ...      93.873000       0.313000\n",
            "50%         0.524000       0.548000  ...     115.728000       0.538000\n",
            "75%         0.895000       0.668000  ...     134.999000       0.745000\n",
            "max         0.996000       0.988000  ...     243.507000       1.000000\n",
            "\n",
            "[8 rows x 9 columns]\n"
          ],
          "name": "stdout"
        }
      ]
    },
    {
      "cell_type": "markdown",
      "metadata": {
        "id": "MntvHEW-K9N0"
      },
      "source": [
        "Scaled data to avoid drift on cluster creation"
      ]
    },
    {
      "cell_type": "code",
      "metadata": {
        "colab": {
          "base_uri": "https://localhost:8080/"
        },
        "id": "ac4ASSUKLBGU",
        "outputId": "e9a6871b-bbd1-463c-eba1-6528821e3493"
      },
      "source": [
        "scaler = StandardScaler()\n",
        "scaler.fit(songs_features)\n",
        "X = scaler.transform(songs_features)\n",
        "print('Scaled data between', X.min(), X.max())"
      ],
      "execution_count": null,
      "outputs": [
        {
          "output_type": "stream",
          "text": [
            "Scaled data between -8.512848918665062 4.67481399763923\n"
          ],
          "name": "stdout"
        }
      ]
    },
    {
      "cell_type": "markdown",
      "metadata": {
        "id": "ss8edzmbLE13"
      },
      "source": [
        "Create KMeans models and compute inertia"
      ]
    },
    {
      "cell_type": "code",
      "metadata": {
        "id": "EpHpsM0dLMb2"
      },
      "source": [
        "# Set up parameters for K-Means\n",
        "cluster_number = range(1, 21)\n",
        "# Create models to test k value\n",
        "models = [KMeans(n_clusters=k) for k in cluster_number]\n",
        "# Compute Inertia for each model\n",
        "inertia = [model.fit(X).inertia_ for model in models]"
      ],
      "execution_count": null,
      "outputs": []
    },
    {
      "cell_type": "markdown",
      "metadata": {
        "id": "_ymk2Dg2LRYd"
      },
      "source": [
        "Show the elbow curve"
      ]
    },
    {
      "cell_type": "code",
      "metadata": {
        "colab": {
          "base_uri": "https://localhost:8080/",
          "height": 301
        },
        "id": "W3h5yoE4LTiB",
        "outputId": "fcb88c7a-d6a1-4064-f3f5-8345b9f3da9f"
      },
      "source": [
        "plt.plot(cluster_number, inertia)\n",
        "plt.xlabel('Number of Clusters')\n",
        "plt.xticks(cluster_number)\n",
        "plt.ylabel('Inertia')\n",
        "plt.title(\"Elbow curve for songs' features\")\n",
        "plt.savefig('elbow-curve.png')\n",
        "plt.show()"
      ],
      "execution_count": null,
      "outputs": [
        {
          "output_type": "display_data",
          "data": {
            "image/png": "[encoded data removed]",
            "text/plain": [
              "<Figure size 432x288 with 1 Axes>"
            ]
          },
          "metadata": {
            "tags": []
          }
        }
      ]
    },
    {
      "cell_type": "markdown",
      "metadata": {
        "id": "4hgW6rnhQlRU"
      },
      "source": [
        "K=8 is selected number of cluster. Train model and save it."
      ]
    },
    {
      "cell_type": "code",
      "metadata": {
        "colab": {
          "base_uri": "https://localhost:8080/"
        },
        "id": "kGIF5P62SLIs",
        "outputId": "129327ca-2522-44f5-cc1c-46214fef257e"
      },
      "source": [
        "from sklearn.pipeline import Pipeline\n",
        "\n",
        "print(models[7].inertia_)\n",
        "pipe = Pipeline([\n",
        "                 ('scale', scaler),\n",
        "                 ('model', models[7])\n",
        "])\n",
        "pipe"
      ],
      "execution_count": null,
      "outputs": [
        {
          "output_type": "stream",
          "text": [
            "641741.2323525546\n"
          ],
          "name": "stdout"
        },
        {
          "output_type": "execute_result",
          "data": {
            "text/plain": [
              "Pipeline(memory=None,\n",
              "         steps=[('scale',\n",
              "                 StandardScaler(copy=True, with_mean=True, with_std=True)),\n",
              "                ('model',\n",
              "                 KMeans(algorithm='auto', copy_x=True, init='k-means++',\n",
              "                        max_iter=300, n_clusters=8, n_init=10, n_jobs=None,\n",
              "                        precompute_distances='auto', random_state=None,\n",
              "                        tol=0.0001, verbose=0))],\n",
              "         verbose=False)"
            ]
          },
          "metadata": {
            "tags": []
          },
          "execution_count": 14
        }
      ]
    },
    {
      "cell_type": "markdown",
      "metadata": {
        "id": "uxXayGKgVMao"
      },
      "source": [
        ""
      ]
    },
    {
      "cell_type": "code",
      "metadata": {
        "colab": {
          "base_uri": "https://localhost:8080/"
        },
        "id": "Gmwrbte9VNHr",
        "outputId": "5d3a867b-801c-4fc3-f60b-67a66050ab4d"
      },
      "source": [
        "genres = pipe.predict(songs_features)\n",
        "data_genre = data.copy()\n",
        "data_genre.insert(1, 'Genre', genres)\n",
        "print(genres.max())"
      ],
      "execution_count": null,
      "outputs": [
        {
          "output_type": "stream",
          "text": [
            "7\n"
          ],
          "name": "stdout"
        }
      ]
    },
    {
      "cell_type": "markdown",
      "metadata": {
        "id": "al22luUgUKBb"
      },
      "source": [
        "Show songs by cluster"
      ]
    },
    {
      "cell_type": "code",
      "metadata": {
        "colab": {
          "base_uri": "https://localhost:8080/"
        },
        "id": "dhCcnfG8UMYv",
        "outputId": "6db777c3-782b-45ef-9d0a-bf28c1313200"
      },
      "source": [
        "data_genre.groupby('Genre').size()"
      ],
      "execution_count": null,
      "outputs": [
        {
          "output_type": "execute_result",
          "data": {
            "text/plain": [
              "Genre\n",
              "0    36312\n",
              "1    27338\n",
              "2    10629\n",
              "3    30377\n",
              "4    18705\n",
              "5    11300\n",
              "6    26020\n",
              "7     7103\n",
              "dtype: int64"
            ]
          },
          "metadata": {
            "tags": []
          },
          "execution_count": 16
        }
      ]
    },
    {
      "cell_type": "code",
      "metadata": {
        "colab": {
          "base_uri": "https://localhost:8080/",
          "height": 328
        },
        "id": "4xoCWhr1WFmP",
        "outputId": "78e7b5e6-b8b2-4576-f35a-f869dd545d5d"
      },
      "source": [
        "data_genre.groupby('Genre').mean()"
      ],
      "execution_count": null,
      "outputs": [
        {
          "output_type": "execute_result",
          "data": {
            "text/html": [
              "<div>\n",
              "<style scoped>\n",
              "    .dataframe tbody tr th:only-of-type {\n",
              "        vertical-align: middle;\n",
              "    }\n",
              "\n",
              "    .dataframe tbody tr th {\n",
              "        vertical-align: top;\n",
              "    }\n",
              "\n",
              "    .dataframe thead th {\n",
              "        text-align: right;\n",
              "    }\n",
              "</style>\n",
              "<table border=\"1\" class=\"dataframe\">\n",
              "  <thead>\n",
              "    <tr style=\"text-align: right;\">\n",
              "      <th></th>\n",
              "      <th>Acousticness</th>\n",
              "      <th>Danceability</th>\n",
              "      <th>Energy</th>\n",
              "      <th>Instrumentalness</th>\n",
              "      <th>Liveness</th>\n",
              "      <th>Loudness</th>\n",
              "      <th>Speechiness</th>\n",
              "      <th>Tempo</th>\n",
              "      <th>Valence</th>\n",
              "    </tr>\n",
              "    <tr>\n",
              "      <th>Genre</th>\n",
              "      <th></th>\n",
              "      <th></th>\n",
              "      <th></th>\n",
              "      <th></th>\n",
              "      <th></th>\n",
              "      <th></th>\n",
              "      <th></th>\n",
              "      <th></th>\n",
              "      <th></th>\n",
              "    </tr>\n",
              "  </thead>\n",
              "  <tbody>\n",
              "    <tr>\n",
              "      <th>0</th>\n",
              "      <td>0.202022</td>\n",
              "      <td>0.692181</td>\n",
              "      <td>0.671860</td>\n",
              "      <td>0.021413</td>\n",
              "      <td>0.156251</td>\n",
              "      <td>-8.217160</td>\n",
              "      <td>0.082375</td>\n",
              "      <td>111.551222</td>\n",
              "      <td>0.725064</td>\n",
              "    </tr>\n",
              "    <tr>\n",
              "      <th>1</th>\n",
              "      <td>0.793727</td>\n",
              "      <td>0.405399</td>\n",
              "      <td>0.234849</td>\n",
              "      <td>0.034963</td>\n",
              "      <td>0.173100</td>\n",
              "      <td>-14.659952</td>\n",
              "      <td>0.046399</td>\n",
              "      <td>101.981947</td>\n",
              "      <td>0.283162</td>\n",
              "    </tr>\n",
              "    <tr>\n",
              "      <th>2</th>\n",
              "      <td>0.429440</td>\n",
              "      <td>0.489819</td>\n",
              "      <td>0.618456</td>\n",
              "      <td>0.130965</td>\n",
              "      <td>0.729553</td>\n",
              "      <td>-10.019238</td>\n",
              "      <td>0.104227</td>\n",
              "      <td>119.149117</td>\n",
              "      <td>0.531086</td>\n",
              "    </tr>\n",
              "    <tr>\n",
              "      <th>3</th>\n",
              "      <td>0.801133</td>\n",
              "      <td>0.612213</td>\n",
              "      <td>0.359064</td>\n",
              "      <td>0.135930</td>\n",
              "      <td>0.172917</td>\n",
              "      <td>-12.148083</td>\n",
              "      <td>0.078781</td>\n",
              "      <td>121.691412</td>\n",
              "      <td>0.709732</td>\n",
              "    </tr>\n",
              "    <tr>\n",
              "      <th>4</th>\n",
              "      <td>0.913559</td>\n",
              "      <td>0.367924</td>\n",
              "      <td>0.172996</td>\n",
              "      <td>0.826560</td>\n",
              "      <td>0.166130</td>\n",
              "      <td>-19.675286</td>\n",
              "      <td>0.052708</td>\n",
              "      <td>101.927296</td>\n",
              "      <td>0.292574</td>\n",
              "    </tr>\n",
              "    <tr>\n",
              "      <th>5</th>\n",
              "      <td>0.150735</td>\n",
              "      <td>0.568585</td>\n",
              "      <td>0.730938</td>\n",
              "      <td>0.790132</td>\n",
              "      <td>0.182822</td>\n",
              "      <td>-9.201722</td>\n",
              "      <td>0.064054</td>\n",
              "      <td>126.843326</td>\n",
              "      <td>0.480253</td>\n",
              "    </tr>\n",
              "    <tr>\n",
              "      <th>6</th>\n",
              "      <td>0.144272</td>\n",
              "      <td>0.457256</td>\n",
              "      <td>0.735881</td>\n",
              "      <td>0.030954</td>\n",
              "      <td>0.189321</td>\n",
              "      <td>-7.352173</td>\n",
              "      <td>0.076894</td>\n",
              "      <td>143.052325</td>\n",
              "      <td>0.470780</td>\n",
              "    </tr>\n",
              "    <tr>\n",
              "      <th>7</th>\n",
              "      <td>0.524941</td>\n",
              "      <td>0.679238</td>\n",
              "      <td>0.242507</td>\n",
              "      <td>0.008935</td>\n",
              "      <td>0.283056</td>\n",
              "      <td>-19.494023</td>\n",
              "      <td>0.908195</td>\n",
              "      <td>107.153143</td>\n",
              "      <td>0.541072</td>\n",
              "    </tr>\n",
              "  </tbody>\n",
              "</table>\n",
              "</div>"
            ],
            "text/plain": [
              "       Acousticness  Danceability    Energy  ...  Speechiness       Tempo   Valence\n",
              "Genre                                        ...                                   \n",
              "0          0.202022      0.692181  0.671860  ...     0.082375  111.551222  0.725064\n",
              "1          0.793727      0.405399  0.234849  ...     0.046399  101.981947  0.283162\n",
              "2          0.429440      0.489819  0.618456  ...     0.104227  119.149117  0.531086\n",
              "3          0.801133      0.612213  0.359064  ...     0.078781  121.691412  0.709732\n",
              "4          0.913559      0.367924  0.172996  ...     0.052708  101.927296  0.292574\n",
              "5          0.150735      0.568585  0.730938  ...     0.064054  126.843326  0.480253\n",
              "6          0.144272      0.457256  0.735881  ...     0.076894  143.052325  0.470780\n",
              "7          0.524941      0.679238  0.242507  ...     0.908195  107.153143  0.541072\n",
              "\n",
              "[8 rows x 9 columns]"
            ]
          },
          "metadata": {
            "tags": []
          },
          "execution_count": 17
        }
      ]
    },
    {
      "cell_type": "code",
      "metadata": {
        "colab": {
          "base_uri": "https://localhost:8080/"
        },
        "id": "VhHO5rFRf4bk",
        "outputId": "84c8603d-6271-422d-d238-a4238c3da0f2"
      },
      "source": [
        "import joblib\n",
        "\n",
        "joblib.dump(pipe, '/content/drive/MyDrive/Models/genres_clustering.pkl')"
      ],
      "execution_count": null,
      "outputs": [
        {
          "output_type": "execute_result",
          "data": {
            "text/plain": [
              "['/content/drive/MyDrive/Models/genres_clustering.pkl']"
            ]
          },
          "metadata": {
            "tags": []
          },
          "execution_count": 18
        }
      ]
    },
    {
      "cell_type": "code",
      "metadata": {
        "colab": {
          "base_uri": "https://localhost:8080/"
        },
        "id": "zKuOUN7HiyNR",
        "outputId": "afc57bec-7950-4cf8-c520-d91a22d6d248"
      },
      "source": [
        "model = joblib.load('/content/drive/MyDrive/Models/genres_clustering.pkl')\n",
        "genres_2 = model.predict(songs_features)\n",
        "data_genre = data.copy()\n",
        "data_genre.insert(1, 'Genre', genres_2)\n",
        "data_genre.groupby('Genre').size()"
      ],
      "execution_count": null,
      "outputs": [
        {
          "output_type": "execute_result",
          "data": {
            "text/plain": [
              "Genre\n",
              "0    36312\n",
              "1    27338\n",
              "2    10629\n",
              "3    30377\n",
              "4    18705\n",
              "5    11300\n",
              "6    26020\n",
              "7     7103\n",
              "dtype: int64"
            ]
          },
          "metadata": {
            "tags": []
          },
          "execution_count": 24
        }
      ]
    }
  ]
}